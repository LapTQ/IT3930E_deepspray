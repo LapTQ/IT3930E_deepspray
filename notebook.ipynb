{
 "cells": [
  {
   "cell_type": "code",
   "execution_count": 1,
   "metadata": {
    "collapsed": true,
    "pycharm": {
     "name": "#%%\n"
    }
   },
   "outputs": [
    {
     "name": "stdout",
     "output_type": "stream",
     "text": [
      "Cloning into 'deepspray'...\r\n",
      "remote: Enumerating objects: 292, done.\u001B[K\r\n",
      "remote: Counting objects: 100% (292/292), done.\u001B[K\r\n",
      "remote: Compressing objects: 100% (172/172), done.\u001B[K\r\n",
      "remote: Total 292 (delta 113), reused 292 (delta 113), pack-reused 0\u001B[Kjects:  21% (62/292), 3.00 MiB | 1.11 MiB/s  Receiving objects:  22% (65/292), 4.02 MiB | 1.25 MiB/sReceiving objects:  27% (79/292), 5.12 MiB | 1.38 MiB/sReceiving objects:  29% (85/292), 6.92 MiB | 1.47 MiB/sReceiving objects:  30% (89/292), 7.79 MiB | 1.50 MiB/sReceiving objects:  48% (141/292), 9.36 MiB | 1.91 MiB/sReceiving objects:  48% (141/292), 12.62 MiB | 1.66 MiB/sReceiving objects:  51% (149/292), 14.71 MiB | 1.71 MiB/sReceiving objects:  52% (152/292), 16.02 MiB | 1.62 MiB/sReceiving objects:  53% (155/292), 17.41 MiB | 1.43 MiB/sReceiving objects:  54% (158/292), 19.16 MiB | 1.20 MiB/sReceiving objects:  55% (161/292), 20.64 MiB | 1.12 MiB/sReceiving objects:  56% (165/292), 21.39 MiB | 1.18 MiB/sReceiving objects:  58% (170/292), 22.21 MiB | 1.25 MiB/sReceiving objects:  60% (176/292), 22.21 MiB | 1.25 MiB/sReceiving objects:  62% (182/292), 22.21 MiB | 1.25 MiB/sReceiving objects:  64% (187/292), 23.05 MiB | 1.30 MiB/sReceiving objects:  66% (193/292), 23.05 MiB | 1.30 MiB/sReceiving objects:  68% (199/292), 23.57 MiB | 1.35 MiB/sReceiving objects:  70% (205/292), 23.57 MiB | 1.35 MiB/sReceiving objects:  73% (214/292), 23.57 MiB | 1.35 MiB/sReceiving objects:  73% (216/292), 25.46 MiB | 1.22 MiB/sReceiving objects:  73% (216/292), 28.11 MiB | 1.10 MiB/sReceiving objects:  73% (216/292), 31.55 MiB | 1.47 MiB/sReceiving objects:  91% (266/292), 31.55 MiB | 1.47 MiB/sReceiving objects:  95% (278/292), 32.50 MiB | 1.55 MiB/sReceiving objects:  96% (283/292), 34.49 MiB | 1.68 MiB/sReceiving objects:  98% (287/292), 35.53 MiB | 1.77 MiB/s\r\n",
      "Receiving objects: 100% (292/292), 36.09 MiB | 1.46 MiB/s, done.\r\n",
      "Resolving deltas: 100% (113/113), done.\r\n",
      "Updating files: 100% (159/159), done.\r\n"
     ]
    }
   ],
   "source": [
    "!git clone https://github.com/getchar49/deepspray.git"
   ]
  }
 ],
 "metadata": {
  "kernelspec": {
   "display_name": "Python 3",
   "language": "python",
   "name": "python3"
  },
  "language_info": {
   "codemirror_mode": {
    "name": "ipython",
    "version": 2
   },
   "file_extension": ".py",
   "mimetype": "text/x-python",
   "name": "python",
   "nbconvert_exporter": "python",
   "pygments_lexer": "ipython2",
   "version": "2.7.6"
  }
 },
 "nbformat": 4,
 "nbformat_minor": 0
}