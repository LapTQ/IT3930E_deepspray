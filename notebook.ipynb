{
 "cells": [
  {
   "cell_type": "markdown",
   "source": [
    "<a href=\"https://colab.research.google.com/github/LapTQ/deep_spray/blob/main/notebook.ipynb\" target=\"_parent\"><img src=\"https://colab.research.google.com/assets/colab-badge.svg\" alt=\"Open In Colab\"/></a>"
   ],
   "metadata": {
    "collapsed": false,
    "pycharm": {
     "name": "#%% md\n"
    }
   }
  },
  {
   "cell_type": "markdown",
   "source": [
    "[Open in Colab](https://colab.research.google.com/github/LapTQ/deep_spray/blob/main/notebook.ipynb)"
   ],
   "metadata": {
    "collapsed": false,
    "pycharm": {
     "name": "#%% md\n"
    }
   }
  },
  {
   "cell_type": "code",
   "execution_count": null,
   "outputs": [],
   "source": [
    "# !git clone https://github.com/getchar49/deepspray.git"
   ],
   "metadata": {
    "collapsed": false,
    "pycharm": {
     "name": "#%%\n"
    }
   }
  },
  {
   "cell_type": "code",
   "execution_count": null,
   "outputs": [],
   "source": [
    "!git clone https://github.com/LapTQ/deep_spray.git\n",
    "%cd deep_spray"
   ],
   "metadata": {
    "collapsed": false,
    "pycharm": {
     "name": "#%%\n"
    }
   }
  },
  {
   "cell_type": "code",
   "execution_count": null,
   "outputs": [],
   "source": [
    "!pip install --upgrade albumentations\n",
    "!pip install opencv-python~=4.6.0.66\n",
    "!pip install opencv-contrib-python~=4.6.0.66"
   ],
   "metadata": {
    "collapsed": false,
    "pycharm": {
     "name": "#%%\n"
    }
   }
  },
  {
   "cell_type": "code",
   "execution_count": null,
   "outputs": [],
   "source": [
    "class_name = ['bag', 'lobe', 'Detached ligament', 'drop', 'Attached ligament']\n",
    "colors = ['red', 'orange', 'deepskyblue', 'mediumseagreen', 'darkgoldenrod']\n",
    "\n",
    "name_to_id_mapping = {name: id for id, name in enumerate(class_name)}\n",
    "id_to_name_mapping = {id: name for id, name in enumerate(class_name)}\n",
    "name_to_color_mapping = {name: color for name, color in zip(class_name, colors)}\n",
    "id_to_color_mapping = {id: color for id, color in enumerate(colors)}"
   ],
   "metadata": {
    "collapsed": false,
    "pycharm": {
     "name": "#%%\n"
    }
   }
  },
  {
   "cell_type": "code",
   "execution_count": null,
   "outputs": [],
   "source": [
    "import numpy as np\n",
    "import matplotlib.pyplot as plt\n",
    "from PIL import Image, ImageDraw, ImageFont\n",
    "from pathlib import Path\n",
    "import cv2\n",
    "import os\n",
    "from utils.dataset import *"
   ],
   "metadata": {
    "collapsed": false,
    "pycharm": {
     "name": "#%%\n"
    }
   }
  },
  {
   "cell_type": "code",
   "execution_count": null,
   "outputs": [],
   "source": [
    "### VISUALIZE\n",
    "\n",
    "for lbl_path in Path('data/labeled/labels').glob('*'):\n",
    "    lbl_path = str(lbl_path)\n",
    "    img_path = lbl_path.replace('labels', 'images').replace('txt', 'png')\n",
    "\n",
    "    boxes = process_txt(lbl_path)\n",
    "    boxes = np.array([box[1:] + box[:1] for box in boxes])\n",
    "    img = Image.open(img_path).convert('RGB')\n",
    "    img = np.array(img)\n",
    "    boxes = yolo_to_coco(img.shape[:2], boxes)\n",
    "    boxes = xywh_to_xyxy(boxes)\n",
    "    print(lbl_path)\n",
    "    plt.figure(figsize=(40, 20))\n",
    "    plot_image(img, boxes=boxes, id_to_color_mapping=id_to_color_mapping, id_to_name_mapping=id_to_name_mapping)\n",
    "    plt.show()          # uncomment this to show images\n",
    "\n",
    "### END"
   ],
   "metadata": {
    "collapsed": false,
    "pycharm": {
     "name": "#%%\n"
    }
   }
  },
  {
   "cell_type": "code",
   "execution_count": null,
   "outputs": [],
   "source": [
    "# lbl_path = 'deepspray/data/data_1/labels/f_01495.txt'\n",
    "# img_path = lbl_path.replace('labels', 'images').replace('txt', 'png')\n",
    "#\n",
    "# img = np.array(Image.open(img_path).convert('RGB'), dtype=np.uint8)\n",
    "# # thử paste ra ảnh trắng cùng kích thước\n",
    "# out_img = np.full_like(img, 255)\n",
    "#\n",
    "# boxes = process_txt(lbl_path)\n",
    "# boxes = [box[1:] for box in boxes]\n",
    "# boxes = xywh_to_xyxy(yolo_to_coco(img.shape, boxes))\n",
    "#\n",
    "# for box in boxes:   # box: [class_id, x, y, w, h]\n",
    "#     x1, y1, x2, y2 = box\n",
    "#     out_img[y1:y2, x1:x2] = img[y1:y2, x1:x2]\n",
    "#\n",
    "# plt.figure(figsize=(40, 20))\n",
    "# plt.imshow(out_img)\n",
    "# plt.show()"
   ],
   "metadata": {
    "collapsed": false,
    "pycharm": {
     "name": "#%%\n"
    }
   }
  },
  {
   "cell_type": "code",
   "execution_count": null,
   "outputs": [],
   "source": [
    "# # augment đơn giản:\n",
    "# # dùng các box đã đánh nhãn thủ công (vẫn giữ background xung quanh, - xử lý sau), và dòng chính (vẫn giữ lại các giọt chưa gán nhãn - xử lí sau :D)\n",
    "# # đổi vị trí cho nhau\n",
    "# # thay đổi kích thước, nhưng trong giới hạn cho phép (cụ thể chưa biết)\n",
    "#\n",
    "# img = np.array(Image.open(img_path).convert('RGB'))\n",
    "#\n",
    "# boxes = process_txt(lbl_path)\n",
    "# boxes = [box[1:] + box[:1] for box in boxes]\n",
    "# boxes = xywh_to_xyxy(yolo_to_coco(img.shape, boxes))\n",
    "#\n",
    "# plt.figure(figsize=(40, 20))\n",
    "# plot_image(img, boxes=boxes, id_to_color_mapping=id_to_color_mapping, id_to_name_mapping=id_to_name_mapping)\n",
    "# plt.show()\n",
    "#\n",
    "# # # paste vào ảnh trắng\n",
    "# # des_img = np.full_like(img, 255)\n",
    "# # des_img, des_boxes = augment(img, boxes, des_img, None)\n",
    "#\n",
    "# # paste vào chính ảnh gốc (thay đổi vị trí các giọt)\n",
    "# des_img = wipe(img, boxes)\n",
    "# des_img, des_boxes = augment(img, boxes, des_img, None)\n",
    "# plt.figure(figsize=(40, 20))\n",
    "# plot_image(des_img, boxes=des_boxes, id_to_name_mapping=id_to_name_mapping, id_to_color_mapping=id_to_color_mapping)\n",
    "# plt.show()"
   ],
   "metadata": {
    "collapsed": false,
    "pycharm": {
     "name": "#%%\n"
    }
   }
  },
  {
   "cell_type": "markdown",
   "source": [
    "# Bắt đầu"
   ],
   "metadata": {
    "collapsed": false,
    "pycharm": {
     "name": "#%% md\n"
    }
   }
  },
  {
   "cell_type": "code",
   "execution_count": null,
   "outputs": [],
   "source": [
    "# 2.2.1. Contour > Đưa về ảnh nhị phân\n",
    "os.makedirs('1', exist_ok=True)\n",
    "\n",
    "img_path = 'data/unlabeled/f_01324.png'\n",
    "\n",
    "img = cv2.imread(img_path)\n",
    "cv2.imwrite('1/img.png', img)\n",
    "\n",
    "# chuyển ảnh về gray\n",
    "img_gray = cv2.cvtColor(img, cv2.COLOR_BGR2GRAY)\n",
    "cv2.imwrite('1/img_gray.png', img_gray)\n",
    "\n",
    "# tạo mask chỉ lấy vật thể\n",
    "img_mask = np.full_like(img_gray, 255)\n",
    "img_mask[np.where(img_gray == 255)] = 0\n",
    "cv2.imwrite('1/img_mask.png', img_mask)\n",
    "\n",
    "# # global threshold: README\n",
    "# ret, thresh = cv2.threshold(img_gray, 180, 255, cv2.THRESH_BINARY_INV)\n",
    "# cv2.imwrite('1/thresh.png', thresh)"
   ],
   "metadata": {
    "collapsed": false,
    "pycharm": {
     "name": "#%%\n"
    }
   }
  },
  {
   "cell_type": "code",
   "execution_count": null,
   "outputs": [],
   "source": [
    "# # Hướng 1: dùng CLAHE trên ảnh (BỎOOOOOOOOOOOOOOOOOOOOOO)\n",
    "#\n",
    "# ### tham số cần chỉnh\n",
    "# clipLimit = 40.0\n",
    "# nrow, ncol = (50, 50)\n",
    "#\n",
    "# clahe = cv2.createCLAHE(clipLimit=clipLimit, tileGridSize=(nrow, ncol))\n",
    "#\n",
    "# img_hls = cv2.cvtColor(img, cv2.COLOR_BGR2HLS)\n",
    "# img_hls[:, :, 1] = clahe.apply(img_hls[:, :, 1])\n",
    "# img_clahe = cv2.cvtColor(img_hls, cv2.COLOR_HLS2BGR)\n",
    "# cv2.imwrite('1/img_clahe.png', img_clahe)\n",
    "#\n",
    "# img_clahe_gray = cv2.cvtColor(img_clahe, cv2.COLOR_BGR2GRAY)\n",
    "# cv2.imwrite('1/img_clahe_gray.png', img_clahe_gray)\n",
    "#\n",
    "# tileH, tileW = img.shape[0] // nrow, img.shape[1] // ncol\n",
    "# max_plot = 0\n",
    "# for i in range(4, nrow):\n",
    "#     j = i + 3\n",
    "#     patch = img_gray[tileH * i: tileH * (i + 1), tileW * j: tileW * (j + 1)]\n",
    "#     patch_clahe = img_clahe_gray[tileH * i: tileH * (i + 1), tileW * j: tileW * (j + 1)]\n",
    "#     plt.figure(figsize=(20, 5))\n",
    "#     plt.subplot(1, 4, 1); plt.imshow(patch, cmap='gray')\n",
    "#     plt.subplot(1, 4, 2); plt.imshow(patch_clahe, cmap='gray')\n",
    "#     plt.subplot(1, 4, 3); plt.hist(patch.ravel(), 256, [0, 256])\n",
    "#     plt.subplot(1, 4, 4); plt.hist(patch_clahe.ravel(), 256, [0, 256])\n",
    "#     plt.show()\n",
    "#     max_plot += 1\n",
    "#     if max_plot == 14:\n",
    "#         break\n"
   ],
   "metadata": {
    "collapsed": false,
    "pycharm": {
     "name": "#%%\n"
    }
   }
  },
  {
   "cell_type": "code",
   "execution_count": null,
   "outputs": [],
   "source": [
    "# # Hướng 2: Dùng CLAHE, nhưng chỉ áp dụng cho phần màu xanh (dùng mask, có thể dilate) => hình cho ra tệ quá (BỎOOOOOOOOOOOOOOOOOOOOOO)\n",
    "#\n",
    "# ### tham số cần chỉnh\n",
    "# nrow, ncol = (120, 160)\n",
    "#\n",
    "# img_hls = cv2.cvtColor(img, cv2.COLOR_BGR2HLS)\n",
    "#\n",
    "# tileH, tileW = img.shape[0] // nrow, img.shape[1] // ncol\n",
    "# max_plot = 0\n",
    "# for i in range(nrow):\n",
    "#     for j in range(ncol):\n",
    "#         patch = img_gray[tileH * i: tileH * (i + 1), tileW * j: tileW * (j + 1)]\n",
    "#         patch_mask = img_mask[tileH * i: tileH * (i + 1), tileW * j: tileW * (j + 1)]\n",
    "#         kernel = cv2.getStructuringElement(cv2.MORPH_RECT, (3, 3))\n",
    "#         patch_mask = cv2.dilate(patch_mask, kernel, iterations=1)\n",
    "#\n",
    "#         loc = np.where(patch_mask == 255)\n",
    "#         if loc[0].shape[0] < 24:\n",
    "#             val = patch[loc]\n",
    "#             val = cv2.equalizeHist(val)\n",
    "#             patch_he = patch.copy()\n",
    "#             for k, l in enumerate(zip(loc[0], loc[1])):\n",
    "#                 patch_he[l[0], l[1]] = val[k][0]\n",
    "#\n",
    "#             img_hls[tileH * i: tileH * (i + 1), tileW * j: tileW * (j + 1), 1] = patch_he\n",
    "#\n",
    "#             ### CHỈ ĐỂ VISUALIZE\n",
    "#             if loc[0].shape[0] > 0 and max_plot < 14:\n",
    "#                 if j == i + 3:\n",
    "#                     plt.figure(figsize=(20, 5))\n",
    "#                     plt.subplot(1, 4, 1); plt.imshow(patch, cmap='gray')\n",
    "#                     plt.subplot(1, 4, 2); plt.imshow(patch_he, cmap='gray')\n",
    "#                     plt.subplot(1, 4, 3); plt.hist(patch[loc], 256, [0, 256])\n",
    "#                     plt.subplot(1, 4, 4); plt.hist(patch_he[loc], 256, [0, 256])\n",
    "#                     plt.show()\n",
    "#                     max_plot += 1\n",
    "#             ### HẾT\n",
    "#\n",
    "# img_clahe = cv2.cvtColor(img_hls, cv2.COLOR_HLS2BGR)\n",
    "# cv2.imwrite('1/img_clahe.png', img_clahe)\n",
    "#\n",
    "# img_clahe_gray = cv2.cvtColor(img_clahe, cv2.COLOR_BGR2GRAY)\n",
    "# cv2.imwrite('1/img_clahe_gray.png', img_clahe_gray)"
   ],
   "metadata": {
    "collapsed": false,
    "pycharm": {
     "name": "#%%\n"
    }
   }
  },
  {
   "cell_type": "code",
   "execution_count": null,
   "outputs": [],
   "source": [
    "# # Hướng 3: Không dùng CLAHE nữa, mà equalizeHist trên thành phần liên thông (BỎOOOOOOOOOOOOOOOOOOOOOO)\n",
    "#\n",
    "# nLabels, labels, stats, centroids = cv2.connectedComponentsWithStats(img_mask, connectivity=4)\n",
    "# img_hls = cv2.cvtColor(img, cv2.COLOR_BGR2HLS)\n",
    "# for k in range(1, nLabels):\n",
    "#     loc = np.where(labels == k)\n",
    "#     val = img_gray[loc]\n",
    "#     val = cv2.equalizeHist(val)\n",
    "#     for i, l in enumerate(zip(loc[0], loc[1])):\n",
    "#         img_hls[l[0], l[1], 1] = val[i][0]\n",
    "#\n",
    "# img_he = cv2.cvtColor(img_hls, cv2.COLOR_HLS2BGR)\n",
    "# cv2.imwrite('1/img_he.png', img_he)\n",
    "#\n",
    "# img_he_gray = cv2.cvtColor(img_he, cv2.COLOR_BGR2GRAY)\n",
    "# cv2.imwrite('1/img_he_gray.png', img_he_gray)\n",
    "#\n",
    "# temp = []\n",
    "# for thresh in range(240, 256):\n",
    "#     img_he_mask = np.full_like(img_he_gray, 255)\n",
    "#     img_he_mask[np.where(img_he_gray >= thresh)] = 0\n",
    "#     nLabels, labels, stats, centroids = cv2.connectedComponentsWithStats(img_he_mask, connectivity=4)\n",
    "#     temp.append(nLabels)\n",
    "#     cv2.imwrite(f'1/img_he_mask{thresh}.png', img_he_mask)\n",
    "# plt.plot(temp)\n",
    "# plt.show()\n"
   ],
   "metadata": {
    "collapsed": false,
    "pycharm": {
     "name": "#%%\n"
    }
   }
  },
  {
   "cell_type": "markdown",
   "source": [
    "## Lọc lấy giọt bé"
   ],
   "metadata": {
    "collapsed": false,
    "pycharm": {
     "name": "#%% md\n"
    }
   }
  },
  {
   "cell_type": "code",
   "execution_count": null,
   "outputs": [],
   "source": [
    "# Hướng 4: Không dùng CLAHE hay HE vội nữa, mà lọc lấy giọt bé bằng thành phần liên thông luôn (OK)\n",
    "\n",
    "uimg_path = 'data/unlabeled/f_01324.png'\n",
    "\n",
    "uimg = cv2.imread(uimg_path)\n",
    "uimg_gray = cv2.cvtColor(uimg, cv2.COLOR_BGR2GRAY)\n",
    "uimg_mask = np.full_like(uimg_gray, 255)\n",
    "uimg_mask[np.where(uimg_gray == 255)] = 0\n",
    "\n",
    "uimg_orig = uimg.copy()\n",
    "\n",
    "# mục tiêu: dọn dẹp để sinh dữ liệu cho DL:\n",
    "# giả sử kích thước của cc trải dài:\n",
    "# ****************************\n",
    "# -----------                         A phần mà CV bắt được\n",
    "#       ----------------------        B phần mà DL sẽ huấn luyện trên nó\n",
    "#      60\n",
    "# A ^ B là phần giọt mà DL có thể bắt được, và CÓ THỂ sẽ chỉ dùng CV để bắt để phục vụ cho quá trình sinh dữ liệu (trường hợp nó dính nhau mà CV ko thể nhận biết được) cho DL, sau khi DL train xong thì CÓ THỂ sẽ tin tưởng DL hơn. CV khi lọc để sinh thì không cần bắt hết, Precision >> Recall\n",
    "# A - (A ^ B): phần mà DL chắc chắn không bắt được\n",
    "#\n",
    "\n",
    "########### hình như dùng cc thì không bị nối đỉnh như contour thì phải => làm thí nghiệm xem sao :)))\n",
    "#           tuy nhiên vẫn có lỗi ở trường hợp 2 giọt 2x2 nối với nhau theo đúng 1 cạnh\n",
    "\n",
    "# Tìm thành phần liên thông trên mask\n",
    "retval, labels, stats, centroids = cv2.connectedComponentsWithStats(uimg_mask, connectivity=4)\n",
    "\n",
    "YELLOW = (0, 195, 255)\n",
    "RED = (51, 87, 255)\n",
    "GREEN = (50, 205, 50)\n",
    "BLUE = (255, 249, 126)\n",
    "PURPLE = (255, 0, 170)\n",
    "\n",
    "# Lưu lại box của các drop, tạo mask mới cho những thứ còn lại\n",
    "points = []\n",
    "class_name = []\n",
    "centers = []\n",
    "src_img = []\n",
    "\n",
    "### chỉ để visualize\n",
    "vis_box = uimg.copy()\n",
    "vis_seg = cv2.cvtColor(uimg_mask, cv2.COLOR_GRAY2BGR); vis_seg[uimg_mask == 255] = RED\n",
    "###\n",
    "\n",
    "for k in range(1, retval):\n",
    "    size = stats[k, cv2.CC_STAT_AREA]\n",
    "    if size < 60:\n",
    "        loc = np.roll(np.where(labels == k), 1, axis=0).transpose().reshape(-1, 2)   # xy\n",
    "        points.append(np.where(labels == k))                                         # yx\n",
    "        class_name.append('small drop')\n",
    "        centers.append(centroids[k])                                                 # xy\n",
    "        src_img.append(uimg_orig)                                             \n",
    "\n",
    "        # sau khi đánh nhãn xong thì xóa đi\n",
    "        uimg[labels == k] = 255\n",
    "        uimg_gray[labels == k] = 255\n",
    "        uimg_mask[labels == k] = 0\n",
    "\n",
    "        ### chỉ để visualize\n",
    "        xywha = cv2.minAreaRect(loc)\n",
    "        xyxy = cv2.boxPoints(xywha).astype(np.int32)\n",
    "        cv2.drawContours(vis_box, [xyxy], -1, GREEN, 1)\n",
    "        vis_seg[labels == k] = GREEN\n",
    "        ###\n",
    "\n",
    "### chỉ để visualize\n",
    "plt.figure(figsize=(20, 20))\n",
    "plt.imshow(cv2.cvtColor(vis_box, cv2.COLOR_BGR2RGB))\n",
    "plt.show()\n",
    "plt.figure(figsize=(20, 20))\n",
    "plt.imshow(cv2.cvtColor(vis_seg, cv2.COLOR_BGR2RGB))\n",
    "plt.show()\n",
    "###"
   ],
   "metadata": {
    "collapsed": false,
    "pycharm": {
     "name": "#%%\n"
    }
   }
  },
  {
   "cell_type": "code",
   "execution_count": null,
   "outputs": [],
   "source": [
    "# Loại bỏ viền trước khi lọc tiếp => Hay, phải đem ra\n",
    "# hỏi thầy xem có cách nào tự động tìm ra điểm này không?\n",
    "\n",
    "plt.hist(uimg_gray.ravel(), 255, [0, 254])\n",
    "plt.show()\n",
    "loc = np.where(uimg_gray > 100)\n",
    "\n",
    "uimg[loc] = 255\n",
    "uimg_gray[loc] = 255\n",
    "uimg_mask[loc] = 0"
   ],
   "metadata": {
    "collapsed": false,
    "pycharm": {
     "name": "#%%\n"
    }
   }
  },
  {
   "cell_type": "code",
   "execution_count": null,
   "outputs": [],
   "source": [
    "# Lọc tiếp lần nữa, y hệt bước trên, do sau khi bỏ viền sẽ có một số giọt tách ra\n",
    "\n",
    "retval, labels, stats, centroids = cv2.connectedComponentsWithStats(uimg_mask, connectivity=4)\n",
    "\n",
    "for k in range(1, retval):\n",
    "    size = stats[k, cv2.CC_STAT_AREA]\n",
    "    if size < 60:\n",
    "        loc = np.roll(np.where(labels == k), 1, axis=0).transpose().reshape(-1, 2)\n",
    "        points.append(np.where(labels == k))\n",
    "        class_name.append('small drop')\n",
    "        centers.append(centroids[k])\n",
    "        src_img.append(uimg_orig)\n",
    "\n",
    "        # sau khi đánh nhãn xong thì xóa đi\n",
    "        uimg[labels == k] = 255\n",
    "        uimg_gray[labels == k] = 255\n",
    "        uimg_mask[labels == k] = 0\n",
    "\n",
    "        ### chỉ để visualize\n",
    "        xywha = cv2.minAreaRect(loc)\n",
    "        xyxy = cv2.boxPoints(xywha).astype(np.int32)\n",
    "        cv2.drawContours(vis_box, [xyxy], -1, GREEN, 1)\n",
    "        vis_seg[labels == k] = GREEN\n",
    "        ###\n",
    "\n",
    "\n",
    "### chỉ để visualize\n",
    "plt.figure(figsize=(20, 20))\n",
    "plt.imshow(cv2.cvtColor(vis_box, cv2.COLOR_BGR2RGB))\n",
    "plt.show()\n",
    "plt.figure(figsize=(20, 20))\n",
    "plt.imshow(cv2.cvtColor(vis_seg, cv2.COLOR_BGR2RGB))\n",
    "plt.show()\n",
    "###"
   ],
   "metadata": {
    "collapsed": false,
    "pycharm": {
     "name": "#%%\n"
    }
   }
  },
  {
   "cell_type": "markdown",
   "source": [
    "## Lọc lấy giọt to"
   ],
   "metadata": {
    "collapsed": false,
    "pycharm": {
     "name": "#%% md\n"
    }
   }
  },
  {
   "cell_type": "code",
   "execution_count": null,
   "outputs": [],
   "source": [
    "# lọc lấy phần chung: (BỎOOOOOOOOOOOOOOOOOOOOOO vì không biết phải dùng cái nào cho tốt => phải có kết quả thực nghiệm mới được)\n",
    "# hướng 1: dùng matchshape\n"
   ],
   "metadata": {
    "collapsed": false,
    "pycharm": {
     "name": "#%%\n"
    }
   }
  },
  {
   "cell_type": "code",
   "execution_count": null,
   "outputs": [],
   "source": [
    "# https://www.geeksforgeeks.org/find-circles-and-ellipses-in-an-image-using-opencv-python/#:~:text=To%20identify%20circles%2C%20ellipses%2C%20or,SimpleBlobDetector()%20function%20of%20OpenCV.\n",
    "\n",
    "# Hướng 2: dùng blob với các tiêu chí\n",
    "\n",
    "retval, labels, stats, centroids = cv2.connectedComponentsWithStats(uimg_mask, connectivity=4)\n",
    "\n",
    "params = cv2.SimpleBlobDetector_Params()\n",
    "\n",
    "params.filterByArea = False\n",
    "params.filterByInertia = False\n",
    "\n",
    "params.filterByCircularity = True\n",
    "params.minCircularity = 0.8\n",
    "\n",
    "params.filterByConvexity = True\n",
    "params.minConvexity = 0.96\n",
    "\n",
    "detector = cv2.SimpleBlobDetector_create(params)\n",
    "\n",
    "for k in range(1, retval):\n",
    "    cc_mask = np.zeros_like(uimg_mask)\n",
    "    cc_mask[labels == k] = 255\n",
    "\n",
    "    loc = np.roll(np.where(labels == k), 1, axis=0).transpose().reshape(-1,2)\n",
    "    keypoints = detector.detect(255 - cc_mask)\n",
    "    if len(keypoints) == 1:\n",
    "        points.append(np.where(labels == k))\n",
    "        class_name.append('large drop')\n",
    "        centers.append(centroids[k])\n",
    "        src_img.append(uimg_orig)\n",
    "\n",
    "        # sau khi đánh nhãn xong thì xóa đi\n",
    "        uimg[labels == k] = 255\n",
    "        uimg_gray[labels == k] = 255\n",
    "        uimg_mask[labels == k] = 0\n",
    "\n",
    "        ### chỉ để visualize\n",
    "        xywha = cv2.minAreaRect(loc)\n",
    "        xyxy = cv2.boxPoints(xywha).astype(np.int32)\n",
    "        cv2.drawContours(vis_box, [xyxy], -1, YELLOW, 1)\n",
    "        vis_seg[labels == k] = YELLOW\n",
    "\n",
    "\n",
    "### chỉ để visualize\n",
    "plt.figure(figsize=(20, 20))\n",
    "plt.imshow(cv2.cvtColor(vis_box, cv2.COLOR_BGR2RGB))\n",
    "plt.show()\n",
    "plt.figure(figsize=(20, 20))\n",
    "plt.imshow(cv2.cvtColor(vis_seg, cv2.COLOR_BGR2RGB))\n",
    "plt.show()\n",
    "###"
   ],
   "metadata": {
    "collapsed": false,
    "pycharm": {
     "name": "#%%\n"
    }
   }
  },
  {
   "cell_type": "markdown",
   "source": [
    "## Lấy ligment từ ảnh đã gán nhãn"
   ],
   "metadata": {
    "collapsed": false,
    "pycharm": {
     "name": "#%% md\n"
    }
   }
  },
  {
   "cell_type": "code",
   "execution_count": null,
   "outputs": [],
   "source": [
    "for lbl_path in Path('data/labeled/labels').glob('*edit.txt'):  # f_01213-\n",
    "\n",
    "    lbl_path = str(lbl_path)\n",
    "    limg_path = lbl_path.replace('labels', 'images').replace('txt', 'png')\n",
    "\n",
    "    boxes = process_txt(lbl_path)\n",
    "    boxes = np.array([box[1:] + box[:1] for box in boxes])\n",
    "    limg = cv2.imread(limg_path)\n",
    "    boxes = yolo_to_coco(limg.shape[:2], boxes)\n",
    "    boxes = xywh_to_xyxy(boxes)\n",
    "\n",
    "    limg_gray = cv2.cvtColor(limg, cv2.COLOR_BGR2GRAY)\n",
    "    limg_mask = np.full_like(limg_gray, 255)\n",
    "    limg_mask[limg_gray > 125] = 0\n",
    "\n",
    "    for box in boxes:\n",
    "        if int(box[-1]) == 2:   # neu la ligament\n",
    "            x1, y1, x2, y2 = box[:4]\n",
    "            x1, y1, x2, y2 = x1 - 4, y1 - 4, x2 + 4, y2 + 4\n",
    "            cc_mask = np.zeros_like(limg_mask)\n",
    "            cc_mask[y1:y2, x1:x2] = 255\n",
    "            cc_mask[np.logical_not(np.logical_and(cc_mask == 255, limg_mask == 255))] = 0\n",
    "\n",
    "            retval, labels, stats, centroids = cv2.connectedComponentsWithStats(cc_mask, connectivity=4)\n",
    "            k = sorted([(k, stats[k, cv2.CC_STAT_AREA]) for k in range(1, retval)], key=lambda x: x[1], reverse=True)[0][0]\n",
    "            cc_mask[labels != k] = 0\n",
    "            \n",
    "            points.append(np.where(cc_mask == 255))\n",
    "            class_name.append('deattached ligament')\n",
    "            centers.append(centroids[k])\n",
    "            src_img.append(limg)"
   ],
   "metadata": {
    "collapsed": false,
    "pycharm": {
     "name": "#%%\n"
    }
   }
  },
  {
   "cell_type": "code",
   "execution_count": null,
   "outputs": [],
   "source": [
    "def background_from_color(H, W, color, offset=0):\n",
    "    background = np.tile(color, H * W).reshape(H, W, -1).astype('uint8')\n",
    "    background = cv2.cvtColor(background, cv2.COLOR_BGR2HSV)\n",
    "    background[:, :, 2] = background[:, :, 2] + offset\n",
    "    background = cv2.cvtColor(background, cv2.COLOR_HSV2BGR)\n",
    "    color = background[0, 0, :]\n",
    "\n",
    "    return background, color"
   ],
   "metadata": {
    "collapsed": false,
    "pycharm": {
     "name": "#%%\n"
    }
   }
  },
  {
   "cell_type": "code",
   "execution_count": null,
   "outputs": [],
   "source": [
    "import albumentations as A\n",
    "\n",
    "\n",
    "def make_copy(*args):\n",
    "    return [item.copy() for item in args]\n",
    "\n",
    "\n",
    "def transform(image, mask):\n",
    "\n",
    "    image, mask = make_copy(image, mask)\n",
    "    H, W = image.shape[:2]        \n",
    "    image[mask == 0] = 0\n",
    "\n",
    "    # cắt và xoay thẳng\n",
    "    rect = cv2.minAreaRect(np.roll(np.where(mask == 255), 1, axis=0).transpose().reshape(-1, 2))\n",
    "    (x, y), (w, h), alpha = rect\n",
    "    if w < h:\n",
    "        w, h = int(w), int(h)\n",
    "        coord = np.array([[0, 0], \n",
    "                            [0, h], \n",
    "                            [w, h], \n",
    "                            [w, 0]], dtype='float32')\n",
    "    else:\n",
    "        w, h = int(h), int(w)\n",
    "        coord = np.array([[w, 0], \n",
    "                            [0, 0], \n",
    "                            [0, h], \n",
    "                            [w, h]], dtype='float32')\n",
    "        \n",
    "    M = cv2.getPerspectiveTransform(cv2.boxPoints(rect), coord)\n",
    "    image = cv2.warpPerspective(image, M, (w, h))\n",
    "\n",
    "    # image = image[:-h//6]\n",
    "\n",
    "    stretch = np.random.choice(range(5, 11))\n",
    "    mag = np.random.choice([1.2, 1.4, 1.6])\n",
    "    w, h = int(mag * w), int(mag * max(stretch * w, h))        # TODO kéo dài ảnh tỉ lệ tối thiểu\n",
    "\n",
    "    \n",
    "    transformed = A.Compose([\n",
    "                        A.Resize(h, w, interpolation=cv2.INTER_CUBIC),\n",
    "                        A.Affine(scale=1.0, translate_percent=0, rotate=(-45, -145), shear=0, fit_output=True, p=1),\n",
    "                        A.PiecewiseAffine(p=1.0, nb_rows=5, nb_cols=5, mode='reflect'),\n",
    "    ])(image=image)\n",
    "\n",
    "    image = transformed['image']\n",
    "    \n",
    "    mask = (cv2.cvtColor(image, cv2.COLOR_BGR2GRAY) > 40).astype('uint8') * 255\n",
    "\n",
    "    return {'image': image, 'mask': mask}\n",
    "\n",
    "\n",
    "def paste(src, des, src_mask, bottom_right):\n",
    "    src, des, src_mask = make_copy(src, des, src_mask)\n",
    "\n",
    "    if not isinstance(bottom_right, np.ndarray):\n",
    "        bottom_right = np.array(bottom_right).reshape(1, 2)\n",
    "\n",
    "    loc = np.roll(np.where(src_mask == 255), 1, axis=0).transpose().reshape(-1, 2)\n",
    "    idx = np.argmax(loc[:, 0])\n",
    "\n",
    "    new_loc = np.clip(loc - loc[idx] + bottom_right, 0, (des.shape[1] - 1, des.shape[0] - 1)).transpose()\n",
    "    loc = loc.transpose()\n",
    "\n",
    "    new_src = np.full_like(des, 255)\n",
    "    new_src_mask = np.zeros(des.shape[:2], dtype='uint8')\n",
    "\n",
    "    new_src[(new_loc[1], new_loc[0])] = src[(loc[1], loc[0])]\n",
    "    new_src_mask[(new_loc[1], new_loc[0])] = 255\n",
    "\n",
    "    des[new_src_mask == 255] = new_src[new_src_mask == 255]\n",
    "\n",
    "    return des, new_loc.transpose()\n",
    "\n",
    "\n",
    "def paste_seamless(src, des, src_mask, des_mask, bottom_right):\n",
    "\n",
    "    src, des, src_mask, des_mask = make_copy(src, des, src_mask, des_mask)\n",
    "    \n",
    "    src[:, -src.shape[1]//12:] = 0\n",
    "    src_mask[:, -src.shape[1]//12:] = 0\n",
    "\n",
    "    if not isinstance(bottom_right, np.ndarray):\n",
    "        bottom_right = np.array(bottom_right).reshape(1, 2)\n",
    "\n",
    "    loc = np.roll(np.where(src_mask == 255), 1, axis=0).transpose().reshape(-1, 2)\n",
    "    idx = np.argmax(loc[:, 0])\n",
    "\n",
    "    new_loc = np.clip(loc - loc[idx] + bottom_right, 0, (des.shape[1] - 1, des.shape[0] - 1)).transpose()\n",
    "    loc = loc.transpose()\n",
    "\n",
    "    color = np.median(src[cv2.erode(src_mask, kernel=np.array([[0, 1, 1], [0, 1, 1], [0, 1, 1]], dtype='uint8'), iterations=3) == 255], axis=0)  # đang cấn ở đoạn này des[(new_loc[1], new_loc[0])]\n",
    "    new_src, _ = background_from_color(des.shape[0], des.shape[1], color)\n",
    "    # new_src = np.full_like(des, 255)\n",
    "    new_src_mask = np.zeros_like(des_mask)\n",
    "    \n",
    "    new_src[(new_loc[1], new_loc[0])] = src[(loc[1], loc[0])]\n",
    "    new_src_mask[(new_loc[1], new_loc[0])] = 255\n",
    "\n",
    "    overlap_mask = cv2.bitwise_and(new_src_mask, des_mask)\n",
    "    nonoverlap_mask = cv2.bitwise_xor(overlap_mask, new_src_mask)\n",
    "\n",
    "    color = np.median(des[des_mask == 255], axis=0).astype('uint8')                             # đang cấn ở đoạn này des_mask\n",
    "    des[des_mask == 0] = color\n",
    "\n",
    "    des_mask[nonoverlap_mask == 255] = 255\n",
    "    \n",
    "    new_src_mask = cv2.dilate(new_src_mask, cv2.getStructuringElement(cv2.MORPH_RECT, (3, 3)), iterations=3)  # critical\n",
    "\n",
    "    rect = cv2.boundingRect(new_src_mask)\n",
    "    \n",
    "    des = cv2.seamlessClone(new_src, des, new_src_mask, (rect[0] + rect[2]//2, rect[1] + rect[3]//2), cv2.NORMAL_CLONE)\n",
    "\n",
    "    des[des_mask == 0] = 255\n",
    "\n",
    "    return des, des_mask, new_loc.transpose()\n",
    "\n",
    "\n",
    "\n",
    "# main = cv2.medianBlur(uimg, ksize=15)\n",
    "\n",
    "# kernel = np.array([\n",
    "#     [1, 1, 0, 0, 0],\n",
    "#     [0, 0, 1, 0, 0],\n",
    "#     [0, 0, 0, 1, 1],\n",
    "# ], dtype=np.uint8)\n",
    "\n",
    "# main_mask = cv2.morphologyEx(uimg_mask, cv2.MORPH_OPEN, kernel, iterations=20)\n",
    "\n",
    "# retval, labels, stats, centroids = cv2.connectedComponentsWithStats(main_mask, connectivity=4)\n",
    "# sizes = sorted([(k, stats[k, cv2.CC_STAT_AREA]) for k in range(1, retval)], key=lambda x: x[1], reverse=True)\n",
    "# k_main = sizes[0][0]\n",
    "\n",
    "# main_mask[labels != k_main] = 0\n",
    "# main[labels != k_main] = 255\n",
    "\n",
    "# main_loc = np.where(labels == k_main)\n",
    "\n",
    "\n",
    "# # lấy các vị trí để dán attached ligament\n",
    "# main_mask_edge = main_mask.copy()\n",
    "# main_mask_edge[:800, :1100] = 0\n",
    "\n",
    "\n",
    "\n",
    "# [1635, 1636, 1647, 1641, 1652, 1640, 1644, 1647, 1652, 1644, 1635, 1636, 1647, 1641, 1652, 1640, 1644, 1647, 1652, 1644]\n",
    "# idx = 1646\n",
    "# img = src_img[idx]\n",
    "# mask = np.zeros((img.shape[0], img.shape[1]), dtype='uint8')\n",
    "# mask[points[idx]] = 255\n",
    "\n",
    "# transformed = transform(image=img, mask=mask)\n",
    "# img = transformed['image']\n",
    "# mask = transformed['mask']\n",
    "\n",
    "# main, main_mask, syn_loc = paste_seamless(img, main, mask, main_mask, (1000, 1000))\n",
    "\n",
    "\n",
    "# plt.figure(figsize=(10, 10))\n",
    "# plt.subplot(1, 2, 1)\n",
    "# plt.imshow(img[:, :, ::-1])\n",
    "# plt.subplot(1, 2, 2)\n",
    "# plt.imshow(mask, cmap='gray')\n",
    "# plt.show()\n",
    "\n",
    "# plt.figure(figsize=(40, 40))\n",
    "# plt.imshow(main[:, :, ::-1])\n",
    "# plt.show()"
   ],
   "metadata": {
    "collapsed": false,
    "pycharm": {
     "name": "#%%\n"
    }
   }
  },
  {
   "cell_type": "code",
   "execution_count": null,
   "outputs": [],
   "source": [
    "import imutils\n",
    "\n",
    "main = cv2.medianBlur(uimg, ksize=15)\n",
    "\n",
    "# kernel = np.array([\n",
    "#     [1, 1, 0, 0, 0],\n",
    "#     [0, 0, 1, 0, 0],\n",
    "#     [0, 0, 0, 1, 1],\n",
    "# ], dtype=np.uint8)\n",
    "kernel = np.array([[1, 1, 1], [1, 1, 1], [1, 1, 1]], dtype=np.uint8)\n",
    "\n",
    "main_mask = cv2.morphologyEx(uimg_mask, cv2.MORPH_OPEN, kernel, iterations=8)\n",
    "\n",
    "retval, labels, stats, centroids = cv2.connectedComponentsWithStats(main_mask, connectivity=4)\n",
    "sizes = sorted([(k, stats[k, cv2.CC_STAT_AREA]) for k in range(1, retval)], key=lambda x: x[1], reverse=True)\n",
    "k_main = sizes[0][0]\n",
    "\n",
    "main_mask[labels != k_main] = 0\n",
    "main[labels != k_main] = 255\n",
    "\n",
    "main_loc = np.where(labels == k_main)\n",
    "\n",
    "syn_boxes = []\n",
    "\n",
    "\n",
    "# lấy các vị trí để dán attached ligament\n",
    "n_in = 10\n",
    "n_out = 10\n",
    "\n",
    "al_loc = np.where(cv2.erode(main_mask, kernel=np.array([[1, 1, 1], [1, 1, 1], [1, 1, 1]], dtype='uint8'), iterations=15) == 255)\n",
    "\n",
    "rand_idx = np.random.choice([i for i in range(len(class_name)) if 'ligament' in class_name[i]], n_in + n_out)\n",
    "rand_loc = [(al_loc[0][i], al_loc[1][i]) for i in np.random.choice([i for i in range(al_loc[0].shape[0]) if al_loc[1][i] > 1000], n_out)] + [(al_loc[0][i], al_loc[1][i]) for i in np.random.choice([i for i in range(al_loc[0].shape[0]) if al_loc[1][i] < 1000], n_in)]\n",
    "\n",
    "\n",
    "for idx, loc in zip(rand_idx, rand_loc):\n",
    "\n",
    "    img = src_img[idx]\n",
    "    mask = np.zeros((img.shape[0], img.shape[1]), dtype='uint8')\n",
    "    mask[points[idx]] = 255\n",
    "\n",
    "    transformed = transform(image=img, mask=mask)\n",
    "    img = transformed['image']\n",
    "    mask = transformed['mask']\n",
    "    \n",
    "    \n",
    "    main, main_mask, syn_loc = paste_seamless(img, main, mask, main_mask, (loc[1], loc[0]))\n",
    "    x, y, w, h = cv2.boundingRect(syn_loc)\n",
    "    syn_boxes.append([x, y, x + w, y + h, 4])\n",
    "\n",
    "\n",
    "# dán giọt\n",
    "# chưa xét trường hợp dán 2 giọt dè nhau hoàn toàn (bỏ box của những cái đó đi)\n",
    "# chưa áp dụng các kiểu xoay, zoom, làm méo ligament\n",
    "\n",
    "n = 300\n",
    "\n",
    "rand_idx = np.random.choice([i for i in range(len(class_name)) if class_name[i] != 'small drop'], n)\n",
    "\n",
    "n_in = int(0.34 * n)\n",
    "n_out = n - n_in\n",
    "rand_in_idx = np.random.choice([i for i in range(main_loc[0].shape[0]) if main_loc[1][i] < 1000], n_in)\n",
    "rand_out_idx = np.random.choice([i for i in range(len(centers))], n_out)\n",
    "rand_loc = [(main_loc[0][i], main_loc[1][i]) for i in rand_in_idx] + [(int(centers[i][1]), int(centers[i][0])) for i in rand_out_idx]    # yx\n",
    "\n",
    "\n",
    "for idx, loc in zip(rand_idx, rand_loc):\n",
    "\n",
    "    img = src_img[idx]\n",
    "    mask = np.zeros((img.shape[0], img.shape[1]), dtype='uint8')\n",
    "    mask[points[idx]] = 255\n",
    "\n",
    "    main, syn_loc = paste(img, main, mask, (loc[1], loc[0]))\n",
    "    x, y, w, h = cv2.boundingRect(syn_loc)\n",
    "\n",
    "    if 'drop' in class_name[idx]:\n",
    "        syn_boxes.append([x, y, x + w, y + h, 3])\n",
    "    elif 'ligament' in class_name[idx]:\n",
    "        syn_boxes.append([x, y, x + w, y + h, 2])\n",
    "\n",
    "plt.figure(figsize=(40, 40))\n",
    "plt.imshow(cv2.cvtColor(main, cv2.COLOR_BGR2RGB))\n",
    "plt.show()\n",
    "plt.figure(figsize=(40, 40))\n",
    "demo = plot_image(cv2.cvtColor(main, cv2.COLOR_BGR2RGB), boxes=syn_boxes, id_to_color_mapping=id_to_color_mapping)#, id_to_name_mapping=id_to_name_mapping)\n",
    "plt.show()"
   ],
   "metadata": {
    "collapsed": false,
    "pycharm": {
     "name": "#%%\n"
    }
   }
  },
  {
   "cell_type": "code",
   "execution_count": null,
   "outputs": [],
   "source": [
    "syn_boxes\n",
    "\n",
    "def coco_to_yolo(image_size, boxes):\n",
    "    \"\"\"\n",
    "    Convert bounding box from COCO format to YOLO format.\n",
    "    :param image_size: (height, width, ...)\n",
    "    :param boxes: numpy array of shape (N, M>=4) in YOLO format [x, y, w, h, ...] in actual image size.\n",
    "    :return: numpy array of shape (N, M) in COCO format [x, y, w, h, ...] normalized.\n",
    "    \"\"\"\n",
    "    if not isinstance(boxes, np.ndarray):\n",
    "        boxes = np.array(boxes)\n",
    "    H, W = image_size[:2]\n",
    "    new_boxes = np.copy(boxes).astype(np.float32)\n",
    "    new_boxes[:, 0] = (boxes[:, 0] / W)\n",
    "    new_boxes[:, 1] = (boxes[:, 1] / H)\n",
    "    new_boxes[:, 2] = (boxes[:, 2] / W)\n",
    "    new_boxes[:, 3] = (boxes[:, 3] / H)\n",
    "    return new_boxes\n",
    "\n",
    "y = coco_to_yolo(main.shape, xyxy_to_xywh(syn_boxes))\n",
    "\n",
    "\n",
    "buffer = []\n",
    "\n",
    "for b in y:\n",
    "    buffer.append(\"%d %.6f %.6f %.6f %.6f\" % (b[4], b[0], b[1], b[2], b[3]))\n",
    "\n",
    "print('\\n'.join(buffer), file=open('y.txt', 'w'))\n",
    "\n"
   ],
   "metadata": {
    "collapsed": false,
    "pycharm": {
     "name": "#%%\n"
    }
   }
  },
  {
   "cell_type": "code",
   "execution_count": null,
   "outputs": [],
   "source": [
    "# Lấy ra dòng chính\n",
    "\n",
    "import imutils\n",
    "\n",
    "main = cv2.medianBlur(uimg, ksize=15)\n",
    "\n",
    "kernel = np.array([\n",
    "    [1, 1, 0, 0, 0],\n",
    "    [0, 0, 1, 0, 0],\n",
    "    [0, 0, 0, 1, 1],\n",
    "], dtype=np.uint8)\n",
    "\n",
    "main_mask = cv2.morphologyEx(uimg_mask, cv2.MORPH_OPEN, kernel, iterations=20)\n",
    "\n",
    "retval, labels, stats, centroids = cv2.connectedComponentsWithStats(main_mask, connectivity=4)\n",
    "sizes = sorted([(k, stats[k, cv2.CC_STAT_AREA]) for k in range(1, retval)], key=lambda x: x[1], reverse=True)\n",
    "k_main = sizes[0][0]\n",
    "\n",
    "main_mask[labels != k_main] = 0\n",
    "main[labels != k_main] = 255\n",
    "\n",
    "drop = cv2.resize(cv2.rotate(main, cv2.ROTATE_90_CLOCKWISE), dsize=None, fx=0.5, fy=0.5)\n",
    "drop_mask = cv2.resize(cv2.rotate(main_mask, cv2.ROTATE_90_CLOCKWISE), dsize=None, fx=0.5, fy=0.5)\n",
    "\n",
    "main, main_mask, loc = paste_seamless(drop, main, drop_mask, main_mask, (1200, 1000))\n",
    "\n",
    "\n",
    "plt.figure(figsize=(20, 20))\n",
    "plt.imshow(main)\n",
    "plt.show()\n",
    "# plt.figure(figsize=(20, 20))\n",
    "# plt.imshow(paste_seamless(drop, main, drop_mask, main_mask, (1000, 800))[2])\n",
    "# plt.show()"
   ],
   "metadata": {
    "collapsed": false,
    "pycharm": {
     "name": "#%%\n"
    }
   }
  },
  {
   "cell_type": "code",
   "execution_count": null,
   "outputs": [],
   "source": [
    "np.array([[1, 2, 3], [4, 5, 6]]).tolist()"
   ],
   "metadata": {
    "collapsed": false,
    "pycharm": {
     "name": "#%%\n"
    }
   }
  },
  {
   "cell_type": "markdown",
   "source": [
    "# Đã cũ"
   ],
   "metadata": {
    "collapsed": false,
    "pycharm": {
     "name": "#%% md\n"
    }
   }
  },
  {
   "cell_type": "code",
   "execution_count": null,
   "outputs": [],
   "source": [
    "# !convert -delay 20 -loop 0 1/demo*.png 1/myimage.gif"
   ],
   "metadata": {
    "collapsed": false,
    "pycharm": {
     "name": "#%%\n"
    }
   }
  },
  {
   "cell_type": "code",
   "execution_count": null,
   "outputs": [],
   "source": [
    "# contours, hierarchy = cv2.findContours(\n",
    "#     image=thresh,\n",
    "#     mode=cv2.RETR_CCOMP,                        # RETR_LIST: NO relationship, RETR_EXTERNAL: ignores child contours, RETR_CCOMP: 2-level hierarchy\n",
    "#     method=cv2.CHAIN_APPROX_NONE                # CHAIN_APPROX_SIMPLE: compresses line segments and leaves only their end points\n",
    "# )                                               # hierarchy: [Next, Previous, First_Child, Parent]\n",
    "\n",
    "# # lọc chỉ lấy contour của level-1\n",
    "# contours = [contours[i] for i in range(len(contours)) if hierarchy[0][i][-1] == -1]\n",
    "# hierarchy = np.array([[hierarchy[0][i] for i in range(len(hierarchy[0])) if hierarchy[0][i][-1] == -1]])\n",
    "\n",
    "# # vẽ contour lên ảnh thresh\n",
    "# contour_thresh = cv2.cvtColor(thresh, cv2.COLOR_GRAY2BGR)\n",
    "# cv2.drawContours(\n",
    "#     image=contour_thresh,\n",
    "#     contours=contours,\n",
    "#     contourIdx=-1,\n",
    "#     color=(0, 255, 0),\n",
    "#     thickness=1,\n",
    "#     lineType=cv2.LINE_8\n",
    "# )\n",
    "\n",
    "# cv2.imwrite('1/contour_thresh.png', contour_thresh)\n"
   ],
   "metadata": {
    "collapsed": false,
    "pycharm": {
     "name": "#%%\n"
    }
   }
  },
  {
   "cell_type": "code",
   "execution_count": null,
   "outputs": [],
   "source": [
    "# # area: 'm00'\n",
    "# # centroid cx: int(M['m10']/M['m00']), cy: int(M['m01']/M['m00'])\n",
    "# moments = [cv2.moments(cnt) for cnt in contours]\n",
    "# areas = [cv2.contourArea(cnt) for cnt in contours]\n",
    "\n",
    "# # the 2nd param specifies whether shape is a closed contour\n",
    "# perimeters = [cv2.arcLength(cnt, True) for cnt in contours]"
   ],
   "metadata": {
    "collapsed": false,
    "pycharm": {
     "name": "#%%\n"
    }
   }
  },
  {
   "cell_type": "code",
   "execution_count": null,
   "outputs": [],
   "source": [
    "# # trích bounding box theo trục từ contour\n",
    "# # rectangles = [cv2.boundingRect(cnt) for cnt in contours]\n",
    "\n",
    "# # trích bounding box khớp nhất\n",
    "# rectangles = [cv2.minAreaRect(cnt) for cnt in contours]         # [(x, y), (w, h), angle_of_rotate]\n",
    "\n",
    "# # chuyển từ xywh sang xyxy\n",
    "# boxes = [cv2.boxPoints(rect).astype('int32') for rect in rectangles]\n",
    "\n",
    "# # aspect ratio\n",
    "# epsilon = 1\n",
    "# ratios = [np.exp(np.abs(np.log((rect[1][0] + epsilon) / (rect[1][1] + epsilon)))) for rect in rectangles]\n",
    "\n",
    "# thresh_boxes = cv2.cvtColor(thresh, cv2.COLOR_GRAY2BGR)\n",
    "# cv2.drawContours(thresh_boxes, boxes, -1, (0, 195, 255), 1, cv2.LINE_4)\n",
    "# cv2.imwrite('1/thresh_boxes.png', thresh_boxes)"
   ],
   "metadata": {
    "collapsed": false,
    "pycharm": {
     "name": "#%%\n"
    }
   }
  },
  {
   "cell_type": "code",
   "execution_count": null,
   "outputs": [],
   "source": [
    "# plt.scatter(ratios, areas)\n",
    "# plt.xlabel('ratio')\n",
    "# plt.ylabel('area')\n",
    "# plt.show()"
   ],
   "metadata": {
    "collapsed": false,
    "pycharm": {
     "name": "#%%\n"
    }
   }
  },
  {
   "cell_type": "code",
   "execution_count": null,
   "outputs": [],
   "source": [
    "# # dùng luật về tỉ lệ và diện tích: README\n",
    "\n",
    "# img_arearatio = img.copy()\n",
    "# cv2.drawContours(img_arearatio, [boxes[i] for i in range(len(boxes)) if ratios[i] < 2.5 or areas[i] < 20], -1, (0, 195, 255), 1, cv2.LINE_4)\n",
    "# cv2.drawContours(img_arearatio, [boxes[i] for i in range(len(boxes)) if 2.5 <= ratios[i] and 20 <= areas[i]], -1, (51, 87, 255), 1, cv2.LINE_4)\n",
    "\n",
    "# cv2.imwrite('1/img_arearatio.png', img_arearatio)"
   ],
   "metadata": {
    "collapsed": false,
    "pycharm": {
     "name": "#%%\n"
    }
   }
  },
  {
   "cell_type": "code",
   "execution_count": null,
   "outputs": [],
   "source": [
    "# # dùng luật về moment (HuMoment, không phải nội dung như SIFT): README\n",
    "\n",
    "# # giot tròn: 1, 11, 12, 13, 19, 27, 34, 39, 44, 46, 50, 52, 59, 84, 94, 98\n",
    "# # giọt dài: 3, 10, 15, 18, 32,\n",
    "# idx_1 = 1\n",
    "# idx_2 = 3\n",
    "\n",
    "# # hiển thị ảnh của template\n",
    "# x1, y1, w, h = cv2.boundingRect(contours[idx_1])\n",
    "# drop = get_drops(img, [[x1, y1, x1 + w, y1 + h]])[0]\n",
    "# plt.imshow(cv2.cvtColor(drop, cv2.COLOR_BGR2RGB))\n",
    "# plt.show()\n",
    "# x1, y1, w, h = cv2.boundingRect(contours[idx_2])\n",
    "# drop = get_drops(img, [[x1, y1, x1 + w, y1 + h]])[0]\n",
    "# plt.imshow(cv2.cvtColor(drop, cv2.COLOR_BGR2RGB))\n",
    "# plt.show()\n",
    "\n",
    "# # tính độ khớp với mỗi template\n",
    "# ret_1 = [cv2.matchShapes(contours[idx_1], cnt, 1, 0.0) for cnt in contours]\n",
    "# ret_2 = [cv2.matchShapes(contours[idx_2], cnt, 1, 0.0) for cnt in contours]\n",
    "# img_matchshape_1 = img.copy()\n",
    "# maskout_1 = np.full_like(img, 255)\n",
    "\n",
    "# YELLOW = (0, 195, 255)\n",
    "# RED = (51, 87, 255)\n",
    "# GREEN = (50, 205, 50)\n",
    "\n",
    "# # mask_red = []\n",
    "# for i in range(len(boxes)):\n",
    "#     # vẽ contour màu vàng cho các drop, đồng thời tạo mask để tí lọc bỏ các drop này\n",
    "#     # có thể đánh nhãn luôn ở bước này\n",
    "#     if ret_1[i] < 0.16 or ret_2[i] < 0.16 or areas[i] < 10:\n",
    "#         cv2.drawContours(img_matchshape_1, [contours[i]], -1, YELLOW, 1, cv2.LINE_4)\n",
    "#         cv2.drawContours(maskout_1, [contours[i]], -1, 0, -1, cv2.LINE_4)\n",
    "#     else:\n",
    "#         # vẽ contour màu đỏ cho các trường hợp còn lại\n",
    "#         cv2.drawContours(img_matchshape_1, [contours[i]], -1, RED, 1, cv2.LINE_4)\n",
    "\n",
    "#         # # tạo riêng từng mask cho mỗi contour đó\n",
    "#         # tmask = np.zeros_like(img)\n",
    "#         # cv2.drawContours(tmask, [contours[i]], -1, (255, 255, 255), -1, cv2.LINE_4)\n",
    "#         # mask_red.append(tmask)\n",
    "\n",
    "\n",
    "# cv2.imwrite('1/img_matchshape_1.png', img_matchshape_1)\n",
    "# cv2.imwrite('1/maskout_1.png', maskout_1)"
   ],
   "metadata": {
    "collapsed": false,
    "pycharm": {
     "name": "#%%\n"
    }
   }
  },
  {
   "cell_type": "code",
   "execution_count": null,
   "outputs": [],
   "source": [
    "# visualize khoảng cách của 1 số giọt với template về shape\n",
    "# sau khi chạy xong thì phải chạy lại các đoạn code bên trên do đã dùng chung tên biến\n",
    "\n",
    "# rectangles = [cv2.boundingRect(cnt) for cnt in contours]\n",
    "# for i in range(len(rectangles)):\n",
    "#     x, y, w, h = rectangles[i]\n",
    "#     x = x + int(w/2)\n",
    "#     y = y + int(h/2)\n",
    "#     rectangles[i] = (x, y, w, h)\n",
    "# boxes = xywh_to_xyxy(rectangles)\n",
    "# boxes = np.concatenate([np.array(boxes),\n",
    "#                         np.expand_dims(np.array(ret_1), axis=-1), np.zeros((len(ret_1), 1))], axis=1)\n",
    "# boxes = np.array([boxes[i] for i in range(len(boxes)) if areas[i] > 5])\n",
    "# os.makedirs('1/rets', exist_ok=True)\n",
    "# for _ in range(24):\n",
    "#     indexes = np.random.choice(list(range(len(boxes))), 50)\n",
    "#     sample_boxes = boxes[indexes]\n",
    "#     temp_img = plot_image(cv2.cvtColor(img, cv2.COLOR_BGR2RGB), boxes=sample_boxes, font_size=10)\n",
    "#\n",
    "#     cv2.imwrite(f'1/rets/{_}.png', cv2.cvtColor(temp_img, cv2.COLOR_RGB2BGR))"
   ],
   "metadata": {
    "collapsed": false,
    "pycharm": {
     "name": "#%%\n"
    }
   }
  },
  {
   "cell_type": "code",
   "execution_count": null,
   "outputs": [],
   "source": [
    "# plt.figure(figsize=(20, 10))\n",
    "# plt.hist(temp_ret_1, bins=len(temp_ret_1))\n",
    "# plt.xlim([0, 2])\n",
    "# plt.show()\n",
    "# plt.figure(figsize=(20, 10))\n",
    "# plt.hist(temp_ret_2, bins=len(temp_ret_1))\n",
    "# plt.xlim([0, 2])\n",
    "# plt.show()"
   ],
   "metadata": {
    "collapsed": false,
    "pycharm": {
     "name": "#%%\n"
    }
   }
  },
  {
   "cell_type": "code",
   "execution_count": null,
   "outputs": [],
   "source": [
    "# # lọc bỏ các drop đã detect được\n",
    "# # chắc là chỉ có ích cho việc visualize kết quả\n",
    "\n",
    "# # sau bước lọc này sẽ để lại nhiễu\n",
    "# img_maskout_1 = np.full_like(img, 255)\n",
    "# img_maskout_1[maskout_1 == 255] = img[maskout_1 == 255]\n",
    "\n",
    "# # tạo mask lọc nhiễu bằng cách blur ảnh nhị phân\n",
    "# ret, thresh_maskout_1 = cv2.threshold(cv2.cvtColor(img_maskout_1, cv2.COLOR_BGR2GRAY), 254, 255, cv2.THRESH_BINARY_INV)\n",
    "# thresh_maskout_1_blur = cv2.medianBlur(thresh_maskout_1, 5)\n",
    "# img_maskout_1 = np.full_like(img, 255)\n",
    "# img_maskout_1[thresh_maskout_1_blur == 255] = img[thresh_maskout_1_blur == 255]\n",
    "\n",
    "# cv2.imwrite('1/img_maskout_1.png', img_maskout_1)\n",
    "# cv2.imwrite('1/thresh_maskout_1.png', thresh_maskout_1)\n",
    "\n",
    "# img_maskout_1_gray = cv2.cvtColor(img_maskout_1, cv2.COLOR_BGR2GRAY)\n",
    "# cv2.imwrite('1/img_maskout_1_gray.png', img_maskout_1_gray)"
   ],
   "metadata": {
    "collapsed": false,
    "pycharm": {
     "name": "#%%\n"
    }
   }
  },
  {
   "cell_type": "code",
   "execution_count": null,
   "metadata": {
    "id": "Zn3DFzD2FHWx",
    "outputId": "d4727c2a-a2e1-4c83-9921-7ee2eb5974d4",
    "pycharm": {
     "name": "#%%\n"
    }
   },
   "outputs": [
    {
     "data": {
      "text/plain": "True"
     },
     "execution_count": 12,
     "metadata": {},
     "output_type": "execute_result"
    }
   ],
   "source": [
    "# # trích bounding box theo trục từ contour\n",
    "# # rectangles = [cv2.boundingRect(cnt) for cnt in contours]\n",
    "\n",
    "# # trích bounding box khớp nhất\n",
    "# rectangles = [cv2.minAreaRect(cnt) for cnt in contours]         # [(x, y), (w, h), angle_of_rotate]\n",
    "\n",
    "# # chuyển từ xywh sang xyxy\n",
    "# boxes = [cv2.boxPoints(rect).astype('int32') for rect in rectangles]\n",
    "\n",
    "# # aspect ratio\n",
    "# epsilon = 1\n",
    "# ratios = [np.exp(np.abs(np.log((rect[1][0] + epsilon) / (rect[1][1] + epsilon)))) for rect in rectangles]\n",
    "\n",
    "# thresh_boxes = cv2.cvtColor(thresh, cv2.COLOR_GRAY2BGR)\n",
    "# cv2.drawContours(thresh_boxes, boxes, -1, (0, 195, 255), 1, cv2.LINE_4)\n",
    "# cv2.imwrite('1/thresh_boxes.png', thresh_boxes)"
   ]
  },
  {
   "cell_type": "code",
   "execution_count": null,
   "metadata": {
    "id": "VpxvkIttFHWy",
    "outputId": "daf94bc4-6a86-4d96-88ca-bd21bea9bedb",
    "pycharm": {
     "name": "#%%\n"
    }
   },
   "outputs": [
    {
     "data": {
      "image/png": "[encoded data removed]",
      "text/plain": "<Figure size 432x288 with 1 Axes>"
     },
     "metadata": {},
     "output_type": "display_data"
    }
   ],
   "source": [
    "# plt.scatter(ratios, areas)\n",
    "# plt.xlabel('ratio')\n",
    "# plt.ylabel('area')\n",
    "# plt.show()"
   ]
  },
  {
   "cell_type": "code",
   "execution_count": null,
   "metadata": {
    "id": "EprUsamyFHWy",
    "outputId": "a3437f2e-92db-469f-fae8-781f1c18d4a6",
    "pycharm": {
     "name": "#%%\n"
    }
   },
   "outputs": [
    {
     "data": {
      "text/plain": "True"
     },
     "execution_count": 14,
     "metadata": {},
     "output_type": "execute_result"
    }
   ],
   "source": [
    "# # dùng luật về tỉ lệ và diện tích: README\n",
    "\n",
    "# img_arearatio = img.copy()\n",
    "# cv2.drawContours(img_arearatio, [boxes[i] for i in range(len(boxes)) if ratios[i] < 2.5 or areas[i] < 20], -1, (0, 195, 255), 1, cv2.LINE_4)\n",
    "# cv2.drawContours(img_arearatio, [boxes[i] for i in range(len(boxes)) if 2.5 <= ratios[i] and 20 <= areas[i]], -1, (51, 87, 255), 1, cv2.LINE_4)\n",
    "\n",
    "# cv2.imwrite('1/img_arearatio.png', img_arearatio)"
   ]
  },
  {
   "cell_type": "code",
   "execution_count": null,
   "metadata": {
    "id": "TG_hNd3EFHWz",
    "outputId": "9e83e1d9-6a4d-45e9-b7b1-3b33adc6e029",
    "pycharm": {
     "name": "#%%\n"
    }
   },
   "outputs": [
    {
     "data": {
      "image/png": "[encoded data removed]",
      "text/plain": "<Figure size 432x288 with 1 Axes>"
     },
     "metadata": {},
     "output_type": "display_data"
    },
    {
     "data": {
      "image/png": "[encoded data removed]",
      "text/plain": "<Figure size 432x288 with 1 Axes>"
     },
     "metadata": {},
     "output_type": "display_data"
    },
    {
     "data": {
      "text/plain": "True"
     },
     "execution_count": 15,
     "metadata": {},
     "output_type": "execute_result"
    }
   ],
   "source": [
    "# # dùng luật về moment (HuMoment, không phải nội dung như SIFT): README\n",
    "\n",
    "# # giot tròn: 1, 11, 12, 13, 19, 27, 34, 39, 44, 46, 50, 52, 59, 84, 94, 98\n",
    "# # giọt dài: 3, 10, 15, 18, 32,\n",
    "# idx_1 = 1\n",
    "# idx_2 = 3\n",
    "\n",
    "# # hiển thị ảnh của template\n",
    "# x1, y1, w, h = cv2.boundingRect(contours[idx_1])\n",
    "# drop = get_drops(img, [[x1, y1, x1 + w, y1 + h]])[0]\n",
    "# plt.imshow(cv2.cvtColor(drop, cv2.COLOR_BGR2RGB))\n",
    "# plt.show()\n",
    "# x1, y1, w, h = cv2.boundingRect(contours[idx_2])\n",
    "# drop = get_drops(img, [[x1, y1, x1 + w, y1 + h]])[0]\n",
    "# plt.imshow(cv2.cvtColor(drop, cv2.COLOR_BGR2RGB))\n",
    "# plt.show()\n",
    "\n",
    "# # tính độ khớp với mỗi template\n",
    "# ret_1 = [cv2.matchShapes(contours[idx_1], cnt, 1, 0.0) for cnt in contours]\n",
    "# ret_2 = [cv2.matchShapes(contours[idx_2], cnt, 1, 0.0) for cnt in contours]\n",
    "# img_matchshape_1 = img.copy()\n",
    "# maskout_1 = np.full_like(img, 255)\n",
    "\n",
    "# YELLOW = (0, 195, 255)\n",
    "# RED = (51, 87, 255)\n",
    "# GREEN = (50, 205, 50)\n",
    "\n",
    "# # mask_red = []\n",
    "# for i in range(len(boxes)):\n",
    "#     # vẽ contour màu vàng cho các drop, đồng thời tạo mask để tí lọc bỏ các drop này\n",
    "#     # có thể đánh nhãn luôn ở bước này\n",
    "#     if ret_1[i] < 0.16 or ret_2[i] < 0.16 or areas[i] < 10:\n",
    "#         cv2.drawContours(img_matchshape_1, [contours[i]], -1, YELLOW, 1, cv2.LINE_4)\n",
    "#         cv2.drawContours(maskout_1, [contours[i]], -1, 0, -1, cv2.LINE_4)\n",
    "#     else:\n",
    "#         # vẽ contour màu đỏ cho các trường hợp còn lại\n",
    "#         cv2.drawContours(img_matchshape_1, [contours[i]], -1, RED, 1, cv2.LINE_4)\n",
    "\n",
    "#         # # tạo riêng từng mask cho mỗi contour đó\n",
    "#         # tmask = np.zeros_like(img)\n",
    "#         # cv2.drawContours(tmask, [contours[i]], -1, (255, 255, 255), -1, cv2.LINE_4)\n",
    "#         # mask_red.append(tmask)\n",
    "\n",
    "\n",
    "# cv2.imwrite('1/img_matchshape_1.png', img_matchshape_1)\n",
    "# cv2.imwrite('1/maskout_1.png', maskout_1)"
   ]
  },
  {
   "cell_type": "code",
   "execution_count": null,
   "metadata": {
    "id": "_BygCHS5FHWz",
    "pycharm": {
     "name": "#%%\n"
    }
   },
   "outputs": [],
   "source": [
    "# visualize khoảng cách của 1 số giọt với template về shape\n",
    "# sau khi chạy xong thì phải chạy lại các đoạn code bên trên do đã dùng chung tên biến\n",
    "\n",
    "# rectangles = [cv2.boundingRect(cnt) for cnt in contours]\n",
    "# for i in range(len(rectangles)):\n",
    "#     x, y, w, h = rectangles[i]\n",
    "#     x = x + int(w/2)\n",
    "#     y = y + int(h/2)\n",
    "#     rectangles[i] = (x, y, w, h)\n",
    "# boxes = xywh_to_xyxy(rectangles)\n",
    "# boxes = np.concatenate([np.array(boxes),\n",
    "#                         np.expand_dims(np.array(ret_1), axis=-1), np.zeros((len(ret_1), 1))], axis=1)\n",
    "# boxes = np.array([boxes[i] for i in range(len(boxes)) if areas[i] > 5])\n",
    "# os.makedirs('1/rets', exist_ok=True)\n",
    "# for _ in range(24):\n",
    "#     indexes = np.random.choice(list(range(len(boxes))), 50)\n",
    "#     sample_boxes = boxes[indexes]\n",
    "#     temp_img = plot_image(cv2.cvtColor(img, cv2.COLOR_BGR2RGB), boxes=sample_boxes, font_size=10)\n",
    "#\n",
    "#     cv2.imwrite(f'1/rets/{_}.png', cv2.cvtColor(temp_img, cv2.COLOR_RGB2BGR))"
   ]
  },
  {
   "cell_type": "code",
   "execution_count": null,
   "metadata": {
    "id": "pPV-nC6fFHW0",
    "pycharm": {
     "name": "#%%\n"
    }
   },
   "outputs": [],
   "source": [
    "# plt.figure(figsize=(20, 10))\n",
    "# plt.hist(temp_ret_1, bins=len(temp_ret_1))\n",
    "# plt.xlim([0, 2])\n",
    "# plt.show()\n",
    "# plt.figure(figsize=(20, 10))\n",
    "# plt.hist(temp_ret_2, bins=len(temp_ret_1))\n",
    "# plt.xlim([0, 2])\n",
    "# plt.show()"
   ]
  },
  {
   "cell_type": "code",
   "execution_count": null,
   "metadata": {
    "id": "IQLsFuZvFHW0",
    "outputId": "660251de-cf05-4cfe-a71a-54ae2e3c30dd",
    "pycharm": {
     "name": "#%%\n"
    }
   },
   "outputs": [
    {
     "data": {
      "text/plain": "True"
     },
     "execution_count": 18,
     "metadata": {},
     "output_type": "execute_result"
    }
   ],
   "source": [
    "# # lọc bỏ các drop đã detect được\n",
    "# # chắc là chỉ có ích cho việc visualize kết quả\n",
    "\n",
    "# # sau bước lọc này sẽ để lại nhiễu\n",
    "# img_maskout_1 = np.full_like(img, 255)\n",
    "# img_maskout_1[maskout_1 == 255] = img[maskout_1 == 255]\n",
    "\n",
    "# # tạo mask lọc nhiễu bằng cách blur ảnh nhị phân\n",
    "# ret, thresh_maskout_1 = cv2.threshold(cv2.cvtColor(img_maskout_1, cv2.COLOR_BGR2GRAY), 254, 255, cv2.THRESH_BINARY_INV)\n",
    "# thresh_maskout_1_blur = cv2.medianBlur(thresh_maskout_1, 5)\n",
    "# img_maskout_1 = np.full_like(img, 255)\n",
    "# img_maskout_1[thresh_maskout_1_blur == 255] = img[thresh_maskout_1_blur == 255]\n",
    "\n",
    "# cv2.imwrite('1/img_maskout_1.png', img_maskout_1)\n",
    "# cv2.imwrite('1/thresh_maskout_1.png', thresh_maskout_1)\n",
    "\n",
    "# img_maskout_1_gray = cv2.cvtColor(img_maskout_1, cv2.COLOR_BGR2GRAY)\n",
    "# cv2.imwrite('1/img_maskout_1_gray.png', img_maskout_1_gray)"
   ]
  },
  {
   "cell_type": "markdown",
   "source": [
    "# YOLOv5"
   ],
   "metadata": {
    "collapsed": false,
    "pycharm": {
     "name": "#%% md\n"
    }
   }
  },
  {
   "cell_type": "code",
   "execution_count": null,
   "outputs": [],
   "source": [
    "!git clone https://github.com/LapTQ/deep_spray.git\n",
    "%cd deep_spray\n",
    "!pip install -r requirements.txt"
   ],
   "metadata": {
    "collapsed": false,
    "pycharm": {
     "name": "#%%\n"
    }
   }
  },
  {
   "cell_type": "code",
   "execution_count": null,
   "outputs": [],
   "source": [
    "!python gen_data.py --train_num 5000 --valid_num 500"
   ],
   "metadata": {
    "collapsed": false,
    "pycharm": {
     "name": "#%%\n"
    }
   }
  },
  {
   "cell_type": "code",
   "execution_count": null,
   "outputs": [],
   "source": [
    "!git clone https://github.com/ultralytics/yolov5\n",
    "!pip install -r yolov5/requirements.txt"
   ],
   "metadata": {
    "collapsed": false,
    "pycharm": {
     "name": "#%%\n"
    }
   }
  },
  {
   "cell_type": "code",
   "execution_count": null,
   "outputs": [],
   "source": [
    "with open('yolov5/data/deepspray.yaml', 'w') as f:\n",
    "    f.write(f\"\"\"train: ../dataset/images/train/\n",
    "val: ../dataset/images/val/\n",
    "\n",
    "# number of classes\n",
    "nc: 5\n",
    "\n",
    "# class names\n",
    "names: ['bag', 'lobe', 'Detached ligament', 'drop', 'Attached ligament']\"\"\")"
   ],
   "metadata": {
    "collapsed": false,
    "pycharm": {
     "name": "#%%\n"
    }
   }
  },
  {
   "cell_type": "code",
   "execution_count": null,
   "outputs": [],
   "source": [
    "%cd yolov5\n",
    "!python train.py --img 600 --batch 16 --epochs 50 --data deepspray.yaml --weights yolov5x.pt --workers 24 --name deepspray --cache\n"
   ],
   "metadata": {
    "collapsed": false,
    "pycharm": {
     "name": "#%%\n"
    }
   }
  }
 ],
 "metadata": {
  "colab": {
   "collapsed_sections": [
    "it5iqIzgFHWw"
   ],
   "name": "notebook.ipynb",
   "provenance": [],
   "include_colab_link": true
  },
  "kernelspec": {
   "display_name": "Python 3",
   "language": "python",
   "name": "python3"
  },
  "language_info": {
   "codemirror_mode": {
    "name": "ipython",
    "version": 2
   },
   "file_extension": ".py",
   "mimetype": "text/x-python",
   "name": "python",
   "nbconvert_exporter": "python",
   "pygments_lexer": "ipython2",
   "version": "2.7.6"
  }
 },
 "nbformat": 4,
 "nbformat_minor": 0
}